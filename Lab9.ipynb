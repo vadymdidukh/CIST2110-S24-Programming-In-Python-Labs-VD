{
 "cells": [
  {
   "cell_type": "markdown",
   "metadata": {},
   "source": [
    "# Lab 9 - File I/O and 1984\n",
    "\n",
    "Name:\n",
    "\n",
    "This lab is designed to give you practice with file I/O, string manipulation, and large data sets. You will be working with the text of George Orwell's 1984, which is available in the file `1984.txt`. You will write code to read in the text, process it, and answer questions about it."
   ]
  },
  {
   "cell_type": "markdown",
   "metadata": {},
   "source": [
    "## Preparing the Text\n",
    "The start of any good text processing task is to read in some text.\n",
    "\n",
    "There is a website called Project Gutenberg that has a lot of free books that are in the public domain. I have already downloaded a book called \"1984\" by George Orwell. I saved that file to \"1984.txt\"\n",
    "\n",
    "Take a look at it to see what it looks like. It is a plain text file."
   ]
  },
  {
   "cell_type": "code",
   "execution_count": null,
   "metadata": {},
   "outputs": [],
   "source": [
    "# 1. Open the file \"1984.txt\" and read the contents into a variable called \"text\"\n"
   ]
  },
  {
   "cell_type": "code",
   "execution_count": null,
   "metadata": {},
   "outputs": [],
   "source": [
    "# 2. Print out the text variable\n"
   ]
  },
  {
   "cell_type": "code",
   "execution_count": null,
   "metadata": {},
   "outputs": [],
   "source": [
    "# 2. Print the type of the text variable\n",
    "\n",
    "# What is the file type: str"
   ]
  },
  {
   "cell_type": "code",
   "execution_count": null,
   "metadata": {},
   "outputs": [],
   "source": [
    "#3. Print the first 100 characters of the text using string splicing\n",
    "\n"
   ]
  },
  {
   "cell_type": "code",
   "execution_count": null,
   "metadata": {},
   "outputs": [],
   "source": [
    "#4. Print the last 100 characters of the text using string splicing\n"
   ]
  },
  {
   "cell_type": "code",
   "execution_count": null,
   "metadata": {},
   "outputs": [],
   "source": [
    "# 5. Split the first 100 characters of the text into a list of words. Call the variable \"words\"\n",
    "\n",
    "# 6. Now split the first 100 lines using the newline character. Call the variable \"lines\"\n"
   ]
  },
  {
   "cell_type": "code",
   "execution_count": null,
   "metadata": {},
   "outputs": [],
   "source": [
    "#.7 Print the first 100 lines of the text using a for loop and the split function on the newline character\n",
    "\n",
    "    \n",
    "# Notice the difference of the \"line\" variable in the for loop and the \"lines\" variable in question 6. The \"lines\" variable is a list of lines, while the for loop prints out the lines one by one.\n"
   ]
  },
  {
   "cell_type": "code",
   "execution_count": null,
   "metadata": {},
   "outputs": [],
   "source": [
    "# Notice there is a lot of extra \"stuff\" in the beginning and end of the file (The header and footer). We only want the actual text of the book so lets remove the header and footer.\n",
    "\n",
    "#8. Create a method called remove_gutenberg_header_footer that takes in a string parameter and return a string with the header and footer removed. The header ends with \"PART ONE\" and the footer starts with \"THE END\" and goes to the end of the file.\n",
    "\n",
    "\n",
    "#9. Call the remove_gutenberg_header_footer method with the text variable and print the result\n",
    "\n"
   ]
  },
  {
   "cell_type": "markdown",
   "metadata": {},
   "source": [
    "## Data Analyitics\n",
    "Now that we have the text of 1984 loaded into a string, we can start to analyze it. We will start by answering some basic questions about the text."
   ]
  },
  {
   "cell_type": "code",
   "execution_count": null,
   "metadata": {},
   "outputs": [],
   "source": [
    "# 10. 1984 is divided into parts. How many parts are there? Print the number of parts in the book.\n",
    "# Hint: Use the count method on the text variable to count the number of times \"PART\" appears in the text.\n"
   ]
  },
  {
   "cell_type": "code",
   "execution_count": null,
   "metadata": {},
   "outputs": [],
   "source": [
    "# 11. Save the text in \"PART ONE\" to a variable called \"part_one_text\".\n",
    "# Hint: Use the find method to find the index of \"PART ONE\" and use string splicing to get the text of \"PART ONE\"\n"
   ]
  },
  {
   "cell_type": "code",
   "execution_count": null,
   "metadata": {},
   "outputs": [],
   "source": [
    "# 12. Now that we have the text of \"PART ONE\", let's try to clean it up a bit. First print out the text of \"PART ONE\" to see what we are working with.\n",
    "\n",
    "# Notice there is a bunch of \"\\n\" characters at the beginning of the text and throughout the text. We want to remove these newline characters.\n",
    "\n",
    "# Remove the newline characters and extra spaces at the beginning and end of the text.\n",
    "# Hint: Use the strip method to remove extra spaces at the beginning and end of the text. Use the replace method to remove newline characters.\n",
    "\n",
    "\n",
    "\n"
   ]
  },
  {
   "cell_type": "code",
   "execution_count": null,
   "metadata": {},
   "outputs": [],
   "source": [
    "# 13. Now look at the text of \"PART ONE\" again. Notice there is still the word \"PART ONE\" at the beginning of the text. Remove the word \"PART ONE\" from the text.\n"
   ]
  },
  {
   "cell_type": "code",
   "execution_count": null,
   "metadata": {},
   "outputs": [],
   "source": [
    "# 14. Now that we have cleaned up the text of \"PART ONE\", let's count the number of sentences in \"PART ONE\".\n",
    "# Hint: Use the count method to count the number of times a period appears in the text.\n"
   ]
  },
  {
   "cell_type": "code",
   "execution_count": null,
   "metadata": {},
   "outputs": [],
   "source": [
    "# 15. Count how many times the sentence \"WAR IS PEACE\" appears in \"PART ONE\"\n",
    "# Hint: Use the count method to count the number of times \"WAR IS PEACE\" appears in the text.\n"
   ]
  },
  {
   "cell_type": "code",
   "execution_count": null,
   "metadata": {},
   "outputs": [],
   "source": [
    "# 16. How many unique words are in \"PART ONE\"?\n",
    "# A unique word is a word that only appears once in the text.\n",
    "# Hint: Use the split method to split the text into a list of words. Use the set method to remove duplicate words. Use the len method to count the number of unique words.\n",
    "\n"
   ]
  },
  {
   "cell_type": "code",
   "execution_count": null,
   "metadata": {},
   "outputs": [],
   "source": [
    "# 17. Get top 10 most common words in \"PART ONE\"\n",
    "# Hint: Use the Counter class from the collections module to count the number of times each word appears in the text. Use the most_common method to get the top 10 most common words.\n",
    "\n",
    "\n"
   ]
  },
  {
   "cell_type": "code",
   "execution_count": null,
   "metadata": {},
   "outputs": [],
   "source": [
    "# 18. Get the top 10 most common words in \"PART ONE\" that are not in the stop_words list. (see the stop_words list below)\n",
    "\n",
    "# Hint: you will want to ensure the words are lower case before counting them. Use the lower method to convert the words to lower case. Use the split method to split the text into a list of words. Use the Counter class from the collections module to count the number of times each word appears in the text. Use the most_common method to get the top 10 most common words. Use the stop_words list to remove common words from the list of words.\n",
    "\n",
    "# Note: Counter is a dictionary subclass. We did not learn about dictionaries yet, but you can think of a dictionary as a list of key-value pairs. In this case, the key is the word and the value is the number of times the word appears in the text. You can access the value of a key in a dictionary by using the key in square brackets. For example, word_counts[\"the\"] will return the number of times \"the\" appears in the text.\n",
    "\n",
    "stop_words = [\"the\", \"of\", \"and\", \"to\", \"a\", \"in\", \"that\", \"it\", \"was\", \"he\",\"had\",\"his\",\"with\",\"for\",\"on\",\"as\",\"at\",\"not\",\"by\",\"but\",\"from\",\"this\",\"all\",\"they\",\"or\",\"be\",\"one\",\"you\",\"would\",\"what\",\"were\",\"we\",\"when\",\"there\",\"if\",\"could\",\"out\",\"up\",\"an\",\"my\",\"about\",\"into\",\"down\",\"over\",\"me\",\"like\",\"then\",\"no\",\"know\",\"which\",\"been\",\"more\",\"who\",\"now\",\"do\",\"only\",\"time\", \"i\",\"him\",\"some\",\"Their\",\"its\",\"them\",\"our\",\"will\",\"other\",\"have\",\"even\",\"their\",\"any\",\"her\",\"is\",\"she\",\"said\", \"your\", \"so\",\"than\", \"did\",\"very\",\"two\"]\n"
   ]
  },
  {
   "cell_type": "code",
   "execution_count": null,
   "metadata": {},
   "outputs": [],
   "source": [
    "#### EXTRA CREDIT ####\n",
    "# Show me something interesting about the text that we have not covered in the questions above. It can be anything.\n",
    "\n"
   ]
  }
 ],
 "metadata": {
  "kernelspec": {
   "display_name": "venv",
   "language": "python",
   "name": "python3"
  },
  "language_info": {
   "codemirror_mode": {
    "name": "ipython",
    "version": 3
   },
   "file_extension": ".py",
   "mimetype": "text/x-python",
   "name": "python",
   "nbconvert_exporter": "python",
   "pygments_lexer": "ipython3",
   "version": "3.12.2"
  }
 },
 "nbformat": 4,
 "nbformat_minor": 2
}
